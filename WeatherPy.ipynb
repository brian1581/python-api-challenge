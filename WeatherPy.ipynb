{
 "cells": [
  {
   "cell_type": "markdown",
   "metadata": {},
   "source": [
    "# Python API Homework - Observations\n",
    "\n",
    "1. The temperature close to the equator is indeed warmer than as we get further from the equator\n",
    "2. Wind speeds are showing more random points of data as we get further from the equator\n",
    "3. Humidity close to the equator is showing a tighter grouping; as we get closer to 20 degrees north/south, the humidity percentages show more randomness \n",
    "\n",
    "\n",
    "**Additional question to ask - what would the relationship of temp, clouds, humidity, etc look like if we added altitude to the dataframe and reviewed that by scatterplot. My hypothesis to be tested would be: If altitude is related to all variables, I would expect to see varying degrees of temperature, wind, cloud cover and humidity at higher altitudes."
   ]
  },
  {
   "cell_type": "markdown",
   "metadata": {},
   "source": [
    "# WeatherPy\n",
    "----\n",
    "# Note\n",
    "* Instructions have been included for each segment. You do not have to follow them exactly, but they are included to help you think through the steps."
   ]
  },
  {
   "cell_type": "code",
   "execution_count": 1,
   "metadata": {
    "scrolled": true
   },
   "outputs": [],
   "source": [
    "# Dependencies and Setup\n",
    "import matplotlib.pyplot as plt\n",
    "import pandas as pd\n",
    "import numpy as np\n",
    "import requests\n",
    "import time\n",
    "import openweathermapy.core as owm\n",
    "import random\n",
    "\n",
    "\n",
    "# Import API key\n",
    "from api_keys import api_key\n",
    "\n",
    "# API Key\n",
    "api_key = '8e66be58d9573c324588a63b2727e090'\n",
    "settings = {\"units\": \"imperial\", \"appid\": api_key}\n",
    "url = 'http://api.openweathermap.org/data/2.5/weather?units=Imperial&q='\n",
    "\n",
    "# Incorporated citipy to determine city based on latitude and longitude\n",
    "from citipy import citipy\n",
    "\n",
    "# Output File (CSV)\n",
    "output_data_file = \"output_data/cities.csv\"\n",
    "\n",
    "# Range of latitudes and longitudes\n",
    "lat_range = (-90, 90)\n",
    "lng_range = (-180, 180)"
   ]
  },
  {
   "cell_type": "markdown",
   "metadata": {},
   "source": [
    "## Generate Cities List"
   ]
  },
  {
   "cell_type": "code",
   "execution_count": 2,
   "metadata": {},
   "outputs": [
    {
     "name": "stdout",
     "output_type": "stream",
     "text": [
      "595\n"
     ]
    }
   ],
   "source": [
    "# List for holding lat_lngs and cities\n",
    "lat_lngs = []\n",
    "cities = []\n",
    "\n",
    "# Create a set of random lat and lng combinations\n",
    "lats = np.random.uniform(low=-90.000, high=90.000, size=1500)\n",
    "lngs = np.random.uniform(low=-180.000, high=180.000, size=1500)\n",
    "lat_lngs = zip(lats, lngs)\n",
    "\n",
    "# Identify nearest city for each lat, lng combination\n",
    "for lat_lng in lat_lngs:\n",
    "    city = citipy.nearest_city(lat_lng[0], lat_lng[1]).city_name\n",
    "    \n",
    "    # If the city is unique, then add it to a our cities list\n",
    "    if city not in cities:\n",
    "        cities.append(city)\n",
    "\n",
    "# Print the city count to confirm sufficient count\n",
    "print(len(cities))"
   ]
  },
  {
   "cell_type": "markdown",
   "metadata": {},
   "source": [
    "### Perform API Calls\n",
    "* Perform a weather check on each city using a series of successive API calls.\n",
    "* Include a print log of each city as it's being processed (with the city number and city name)."
   ]
  },
  {
   "cell_type": "code",
   "execution_count": 3,
   "metadata": {},
   "outputs": [
    {
     "name": "stdout",
     "output_type": "stream",
     "text": [
      "Results not found\n",
      "Results not found\n",
      "Results not found\n",
      "Results not found\n",
      "Results not found\n",
      "Results not found\n",
      "Results not found\n",
      "Results not found\n",
      "Results not found\n",
      "Results not found\n",
      "Results not found\n",
      "Results not found\n",
      "Results not found\n",
      "Results not found\n",
      "Results not found\n",
      "Results not found\n",
      "Results not found\n",
      "Results not found\n",
      "Results not found\n",
      "Results not found\n",
      "Results not found\n",
      "Results not found\n",
      "Results not found\n",
      "Results not found\n",
      "Results not found\n",
      "Results not found\n",
      "Results not found\n",
      "Results not found\n",
      "Results not found\n",
      "Results not found\n",
      "Results not found\n",
      "Results not found\n",
      "Results not found\n",
      "Results not found\n",
      "Results not found\n",
      "Results not found\n",
      "Results not found\n",
      "Results not found\n",
      "Results not found\n",
      "Results not found\n",
      "Results not found\n",
      "Results not found\n",
      "Results not found\n",
      "Results not found\n",
      "Results not found\n",
      "Results not found\n",
      "Results not found\n",
      "Results not found\n",
      "Results not found\n",
      "Results not found\n",
      "Results not found\n",
      "Results not found\n",
      "Results not found\n",
      "Results not found\n",
      "Results not found\n",
      "Results not found\n",
      "Results not found\n",
      "Results not found\n",
      "Results not found\n",
      "Results not found\n",
      "Results not found\n",
      "Results not found\n",
      "Results not found\n",
      "Results not found\n",
      "531\n"
     ]
    }
   ],
   "source": [
    "town = []\n",
    "\n",
    "for i in cities:\n",
    "    try:\n",
    "        response = requests.get(url + i + '&APPID= + api_key).json()\n",
    "        weather_dict = {'City': response['name'], 'Date': response['dt'], 'Humidity': response['main']['humidity'],\n",
    "                    'Latitude': response['coord']['lat'], 'Longitude': response['coord']['lon'],\n",
    "                    'Temperature': response['main']['temp_max'], 'Wind': response['wind']['speed'],\n",
    "                    'Cloud Cover': response['clouds']['all']}\n",
    "        time.sleep(0.5)\n",
    "        town.append(weather_dict)\n",
    "        \n",
    "    except:\n",
    "        print(f'Results not found')\n",
    "        \n",
    "print(len(town))"
   ]
  },
  {
   "cell_type": "code",
   "execution_count": 22,
   "metadata": {},
   "outputs": [
    {
     "data": {
      "text/html": [
       "<div>\n",
       "<style scoped>\n",
       "    .dataframe tbody tr th:only-of-type {\n",
       "        vertical-align: middle;\n",
       "    }\n",
       "\n",
       "    .dataframe tbody tr th {\n",
       "        vertical-align: top;\n",
       "    }\n",
       "\n",
       "    .dataframe thead th {\n",
       "        text-align: right;\n",
       "    }\n",
       "</style>\n",
       "<table border=\"1\" class=\"dataframe\">\n",
       "  <thead>\n",
       "    <tr style=\"text-align: right;\">\n",
       "      <th></th>\n",
       "      <th>City</th>\n",
       "      <th>Date</th>\n",
       "      <th>Humidity</th>\n",
       "      <th>Latitude</th>\n",
       "      <th>Longitude</th>\n",
       "      <th>Temperature</th>\n",
       "      <th>Wind</th>\n",
       "      <th>Cloud Cover</th>\n",
       "    </tr>\n",
       "  </thead>\n",
       "  <tbody>\n",
       "    <tr>\n",
       "      <td>483</td>\n",
       "      <td>Puerto Narino</td>\n",
       "      <td>1571617938</td>\n",
       "      <td>100</td>\n",
       "      <td>-3.77</td>\n",
       "      <td>-70.38</td>\n",
       "      <td>77.00</td>\n",
       "      <td>2.24</td>\n",
       "      <td>20</td>\n",
       "    </tr>\n",
       "    <tr>\n",
       "      <td>157</td>\n",
       "      <td>Saint George</td>\n",
       "      <td>1571617627</td>\n",
       "      <td>100</td>\n",
       "      <td>39.45</td>\n",
       "      <td>22.34</td>\n",
       "      <td>57.20</td>\n",
       "      <td>1.36</td>\n",
       "      <td>0</td>\n",
       "    </tr>\n",
       "    <tr>\n",
       "      <td>141</td>\n",
       "      <td>Platanos</td>\n",
       "      <td>1571617609</td>\n",
       "      <td>100</td>\n",
       "      <td>35.47</td>\n",
       "      <td>23.60</td>\n",
       "      <td>71.01</td>\n",
       "      <td>13.94</td>\n",
       "      <td>20</td>\n",
       "    </tr>\n",
       "    <tr>\n",
       "      <td>340</td>\n",
       "      <td>Moose Factory</td>\n",
       "      <td>1571617802</td>\n",
       "      <td>100</td>\n",
       "      <td>51.26</td>\n",
       "      <td>-80.61</td>\n",
       "      <td>46.40</td>\n",
       "      <td>5.82</td>\n",
       "      <td>90</td>\n",
       "    </tr>\n",
       "    <tr>\n",
       "      <td>33</td>\n",
       "      <td>Mahebourg</td>\n",
       "      <td>1571617506</td>\n",
       "      <td>100</td>\n",
       "      <td>-20.41</td>\n",
       "      <td>57.70</td>\n",
       "      <td>71.01</td>\n",
       "      <td>5.82</td>\n",
       "      <td>75</td>\n",
       "    </tr>\n",
       "    <tr>\n",
       "      <td>...</td>\n",
       "      <td>...</td>\n",
       "      <td>...</td>\n",
       "      <td>...</td>\n",
       "      <td>...</td>\n",
       "      <td>...</td>\n",
       "      <td>...</td>\n",
       "      <td>...</td>\n",
       "      <td>...</td>\n",
       "    </tr>\n",
       "    <tr>\n",
       "      <td>175</td>\n",
       "      <td>Alice Springs</td>\n",
       "      <td>1571617645</td>\n",
       "      <td>13</td>\n",
       "      <td>-23.70</td>\n",
       "      <td>133.88</td>\n",
       "      <td>73.40</td>\n",
       "      <td>14.99</td>\n",
       "      <td>0</td>\n",
       "    </tr>\n",
       "    <tr>\n",
       "      <td>305</td>\n",
       "      <td>Yulara</td>\n",
       "      <td>1571617769</td>\n",
       "      <td>11</td>\n",
       "      <td>-25.24</td>\n",
       "      <td>130.99</td>\n",
       "      <td>78.80</td>\n",
       "      <td>18.34</td>\n",
       "      <td>92</td>\n",
       "    </tr>\n",
       "    <tr>\n",
       "      <td>178</td>\n",
       "      <td>Mount Isa</td>\n",
       "      <td>1571617648</td>\n",
       "      <td>10</td>\n",
       "      <td>-20.73</td>\n",
       "      <td>139.49</td>\n",
       "      <td>84.20</td>\n",
       "      <td>14.99</td>\n",
       "      <td>0</td>\n",
       "    </tr>\n",
       "    <tr>\n",
       "      <td>281</td>\n",
       "      <td>Camp Verde</td>\n",
       "      <td>1571617747</td>\n",
       "      <td>9</td>\n",
       "      <td>34.56</td>\n",
       "      <td>-111.85</td>\n",
       "      <td>72.00</td>\n",
       "      <td>9.17</td>\n",
       "      <td>1</td>\n",
       "    </tr>\n",
       "    <tr>\n",
       "      <td>275</td>\n",
       "      <td>Harbour Breton</td>\n",
       "      <td>1571617741</td>\n",
       "      <td>2</td>\n",
       "      <td>47.48</td>\n",
       "      <td>-55.80</td>\n",
       "      <td>46.99</td>\n",
       "      <td>5.01</td>\n",
       "      <td>67</td>\n",
       "    </tr>\n",
       "  </tbody>\n",
       "</table>\n",
       "<p>531 rows × 8 columns</p>\n",
       "</div>"
      ],
      "text/plain": [
       "               City        Date  Humidity  Latitude  Longitude  Temperature  \\\n",
       "483   Puerto Narino  1571617938       100     -3.77     -70.38        77.00   \n",
       "157    Saint George  1571617627       100     39.45      22.34        57.20   \n",
       "141        Platanos  1571617609       100     35.47      23.60        71.01   \n",
       "340   Moose Factory  1571617802       100     51.26     -80.61        46.40   \n",
       "33        Mahebourg  1571617506       100    -20.41      57.70        71.01   \n",
       "..              ...         ...       ...       ...        ...          ...   \n",
       "175   Alice Springs  1571617645        13    -23.70     133.88        73.40   \n",
       "305          Yulara  1571617769        11    -25.24     130.99        78.80   \n",
       "178       Mount Isa  1571617648        10    -20.73     139.49        84.20   \n",
       "281      Camp Verde  1571617747         9     34.56    -111.85        72.00   \n",
       "275  Harbour Breton  1571617741         2     47.48     -55.80        46.99   \n",
       "\n",
       "      Wind  Cloud Cover  \n",
       "483   2.24           20  \n",
       "157   1.36            0  \n",
       "141  13.94           20  \n",
       "340   5.82           90  \n",
       "33    5.82           75  \n",
       "..     ...          ...  \n",
       "175  14.99            0  \n",
       "305  18.34           92  \n",
       "178  14.99            0  \n",
       "281   9.17            1  \n",
       "275   5.01           67  \n",
       "\n",
       "[531 rows x 8 columns]"
      ]
     },
     "execution_count": 22,
     "metadata": {},
     "output_type": "execute_result"
    }
   ],
   "source": [
    "#Create dataframe\n",
    "climate_df = pd.DataFrame(town)\n",
    "climate_df = climate_df.sort_values(['Humidity'], ascending=False)\n",
    "climate_df.to_csv(r'../cities.csv')\n",
    "climate_df"
   ]
  },
  {
   "cell_type": "markdown",
   "metadata": {},
   "source": [
    "### Plotting the Data\n",
    "* Use proper labeling of the plots using plot titles (including date of analysis) and axes labels.\n",
    "* Save the plotted figures as .pngs."
   ]
  },
  {
   "cell_type": "markdown",
   "metadata": {},
   "source": [
    "#### Latitude vs. Temperature Plot"
   ]
  },
  {
   "cell_type": "code",
   "execution_count": 7,
   "metadata": {},
   "outputs": [
    {
     "data": {
      "image/png": "[encoded data removed]",
      "text/plain": [
       "<Figure size 432x288 with 1 Axes>"
      ]
     },
     "metadata": {
      "needs_background": "light"
     },
     "output_type": "display_data"
    }
   ],
   "source": [
    "plt.scatter(climate_df['Latitude'],climate_df['Temperature'],s=10)\n",
    "plt.title('Temp v Latitude', fontsize=14)\n",
    "plt.xlabel('Latitude',fontsize=12)\n",
    "plt.ylabel('Temp in F',fontsize=12)\n",
    "#plt.vlines(0,-50,150,colors=\"r\",)\n",
    "plt.axvline(x=0,c=\"r\",alpha=0.6)\n",
    "plt.xlim(-90,90)\n",
    "plt.grid(alpha=0.3)\n",
    "plt.savefig('../temperature.png')\n",
    "plt.show()"
   ]
  },
  {
   "cell_type": "markdown",
   "metadata": {},
   "source": [
    "#### Latitude vs. Humidity Plot"
   ]
  },
  {
   "cell_type": "code",
   "execution_count": 8,
   "metadata": {},
   "outputs": [
    {
     "data": {
      "image/png": "[encoded data removed]",
      "text/plain": [
       "<Figure size 432x288 with 1 Axes>"
      ]
     },
     "metadata": {
      "needs_background": "light"
     },
     "output_type": "display_data"
    }
   ],
   "source": [
    "plt.scatter(climate_df['Latitude'],climate_df['Humidity'],s=10)\n",
    "plt.title('Humidity v Latitude', fontsize=14)\n",
    "plt.xlabel('Latitude',fontsize=12)\n",
    "plt.ylabel('Humidity %',fontsize=12)\n",
    "#plt.vlines(0,-50,150,colors=\"r\",)\n",
    "plt.axvline(x=0,c=\"r\",alpha=0.6)\n",
    "plt.axhline(100, c=\"k\",alpha=0.2,lw=1)\n",
    "plt.axhline(0, c=\"k\",alpha=0.2,lw=1)\n",
    "plt.xlim(-90,90)\n",
    "plt.grid(alpha=0.3)\n",
    "plt.savefig('../humidity.png')\n",
    "plt.show()"
   ]
  },
  {
   "cell_type": "markdown",
   "metadata": {},
   "source": [
    "#### Latitude vs. Cloudiness Plot"
   ]
  },
  {
   "cell_type": "code",
   "execution_count": 9,
   "metadata": {},
   "outputs": [
    {
     "data": {
      "image/png": "[encoded data removed]",
      "text/plain": [
       "<Figure size 432x288 with 1 Axes>"
      ]
     },
     "metadata": {
      "needs_background": "light"
     },
     "output_type": "display_data"
    }
   ],
   "source": [
    "plt.scatter(climate_df['Latitude'],climate_df['Cloud Cover'],s=10)\n",
    "plt.title('Clouds v Latitude', fontsize=14)\n",
    "plt.xlabel('Latitude',fontsize=12)\n",
    "plt.ylabel('Cloud %',fontsize=12)\n",
    "#plt.vlines(0,-50,150,colors=\"r\",)\n",
    "plt.axvline(x=0,c=\"r\",alpha=0.6)\n",
    "plt.axhline(100, c=\"k\",alpha=0.2,lw=1)\n",
    "plt.axhline(0, c=\"k\",alpha=0.2,lw=1)\n",
    "plt.xlim(-90,90)\n",
    "plt.ylim(-5,105)\n",
    "plt.grid(alpha=0.3)\n",
    "plt.savefig('../clouds.png')\n",
    "plt.show()"
   ]
  },
  {
   "cell_type": "markdown",
   "metadata": {},
   "source": [
    "#### Latitude vs. Wind Speed Plot"
   ]
  },
  {
   "cell_type": "code",
   "execution_count": 10,
   "metadata": {},
   "outputs": [
    {
     "data": {
      "image/png": "[encoded data removed]",
      "text/plain": [
       "<Figure size 432x288 with 1 Axes>"
      ]
     },
     "metadata": {
      "needs_background": "light"
     },
     "output_type": "display_data"
    }
   ],
   "source": [
    "plt.scatter(climate_df['Latitude'],climate_df['Wind'],s=10)\n",
    "plt.title('Wind Speed v Latitude', fontsize=14)\n",
    "plt.xlabel('Latitude',fontsize=12)\n",
    "plt.ylabel('Wind in mph',fontsize=12)\n",
    "#plt.vlines(0,-50,150,colors=\"r\",)\n",
    "plt.axvline(x=0,c='r',alpha=0.6)\n",
    "plt.axhline(0, c='k',alpha=0.2,lw=1)\n",
    "plt.xlim(-90,90)\n",
    "plt.grid(alpha=0.3)\n",
    "plt.savefig('../wind.png')\n",
    "plt.show()"
   ]
  },
  {
   "cell_type": "code",
   "execution_count": null,
   "metadata": {},
   "outputs": [],
   "source": []
  }
 ],
 "metadata": {
  "anaconda-cloud": {},
  "kernel_info": {
   "name": "python3"
  },
  "kernelspec": {
   "display_name": "Python 3",
   "language": "python",
   "name": "python3"
  },
  "language_info": {
   "codemirror_mode": {
    "name": "ipython",
    "version": 3
   },
   "file_extension": ".py",
   "mimetype": "text/x-python",
   "name": "python",
   "nbconvert_exporter": "python",
   "pygments_lexer": "ipython3",
   "version": "3.6.9"
  },
  "nteract": {
   "version": "0.12.3"
  }
 },
 "nbformat": 4,
 "nbformat_minor": 2
}
